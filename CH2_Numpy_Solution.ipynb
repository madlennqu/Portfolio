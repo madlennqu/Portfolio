{
 "cells": [
  {
   "cell_type": "markdown",
   "metadata": {},
   "source": [
    "# CH2A - Activity 1"
   ]
  },
  {
   "cell_type": "code",
   "execution_count": 1,
   "metadata": {},
   "outputs": [
    {
     "name": "stdout",
     "output_type": "stream",
     "text": [
      "My 20 integers are: [610 465 482 422 198 842 117 695 206 223 669 314 837 196 213 738 147 173\n",
      " 644 324]\n",
      "[610, 465, 695]\n"
     ]
    }
   ],
   "source": [
    "import numpy as np\n",
    "\n",
    "np.random.seed(123)\n",
    "a = np.random.randint(100,999,20)\n",
    "print('My 20 integers are:', a)\n",
    "\n",
    "ans = []\n",
    "for i in a:\n",
    "    if i%5 == 0:\n",
    "        ans.append(i)\n",
    "print(ans)"
   ]
  },
  {
   "cell_type": "markdown",
   "metadata": {},
   "source": [
    "# CH2A - Activity 2 (Solution 1)"
   ]
  },
  {
   "cell_type": "code",
   "execution_count": 3,
   "metadata": {},
   "outputs": [
    {
     "name": "stdout",
     "output_type": "stream",
     "text": [
      "[[196]\n",
      " [147]\n",
      " [644]\n",
      " [308]\n",
      " [168]\n",
      " [917]]\n"
     ]
    }
   ],
   "source": [
    "import numpy as np\n",
    "np.random.seed(123)\n",
    "\n",
    "ans = []\n",
    "while len(ans)<=5:\n",
    "    a = np.random.randint(100,999,1)\n",
    "    if a%7 == 0:\n",
    "        ans.append(a)\n",
    "        # print(a)\n",
    "        \n",
    "print(np.array(ans))"
   ]
  },
  {
   "cell_type": "markdown",
   "metadata": {},
   "source": [
    "# CH2A - Activity 2 (Solution 2)"
   ]
  },
  {
   "cell_type": "code",
   "execution_count": 6,
   "metadata": {},
   "outputs": [
    {
     "name": "stdout",
     "output_type": "stream",
     "text": [
      "553\n",
      "721\n",
      "973\n",
      "420\n",
      "168\n"
     ]
    }
   ],
   "source": [
    "import random\n",
    "\n",
    "for num in range(5):\n",
    "    print(random.randrange(105, 999, 7))"
   ]
  },
  {
   "cell_type": "code",
   "execution_count": null,
   "metadata": {},
   "outputs": [],
   "source": []
  },
  {
   "cell_type": "markdown",
   "metadata": {},
   "source": [
    "# CH2A - Activity 3"
   ]
  },
  {
   "cell_type": "code",
   "execution_count": 2,
   "metadata": {},
   "outputs": [
    {
     "data": {
      "text/plain": [
       "dtype('float64')"
      ]
     },
     "execution_count": 2,
     "metadata": {},
     "output_type": "execute_result"
    }
   ],
   "source": [
    "import numpy as np\n",
    "\n",
    "x = np.random.standard_normal(size=(4,3))\n",
    "x.dtype"
   ]
  },
  {
   "cell_type": "markdown",
   "metadata": {},
   "source": [
    "# CH2A - Activity 4"
   ]
  },
  {
   "cell_type": "code",
   "execution_count": 4,
   "metadata": {},
   "outputs": [
    {
     "name": "stdout",
     "output_type": "stream",
     "text": [
      "[2.1 2.3 2.5 2.7 2.9 3.1 3.3 3.5 3.7 3.9 4.1 4.3 4.5 4.7 4.9]\n"
     ]
    }
   ],
   "source": [
    "import numpy as np\n",
    "\n",
    "x = np.arange(2,5,0.1)\n",
    "print(x[1::2])"
   ]
  },
  {
   "cell_type": "markdown",
   "metadata": {},
   "source": [
    "# CH2B - Activity 1"
   ]
  },
  {
   "cell_type": "code",
   "execution_count": 14,
   "metadata": {},
   "outputs": [
    {
     "name": "stdout",
     "output_type": "stream",
     "text": [
      "My x matrix is:\n",
      " [[8 9 5 9]\n",
      " [6 3 3 6]\n",
      " [3 6 4 6]]\n",
      "My x1 is updated like x:\n",
      " [[8 9 5 9]\n",
      " [6 3 3 6]\n",
      " [1 1 1 1]]\n",
      "My x2 remains unchanged:\n",
      " [[8 9 5 9]\n",
      " [6 3 3 6]\n",
      " [3 6 4 6]]\n"
     ]
    }
   ],
   "source": [
    "import numpy as np\n",
    "np.random.seed(2019)\n",
    "n0 = np.random.uniform(-2,2,(2,3))\n",
    "print('My n0 is:\\n',n0)\n",
    "\n",
    "n0_copy = n0\n",
    "a = np.ones((1,3))\n",
    "n1 = np.vstack((n0_copy,a))\n",
    "print('My n1 is:\\n',n1)\n",
    "\n",
    "left,n2 = np.hsplit(n1,[2])\n",
    "print('My LEFT is:\\n',left)\n",
    "print('My RIGHT is:\\n',n2)\n",
    "\n",
    "print('Does the split apply in-place of n1?\\n Answer is NO! \\n',n1)"
   ]
  },
  {
   "cell_type": "markdown",
   "metadata": {},
   "source": [
    "# CH2B - Activity 2"
   ]
  },
  {
   "cell_type": "code",
   "execution_count": 7,
   "metadata": {},
   "outputs": [
    {
     "name": "stdout",
     "output_type": "stream",
     "text": [
      "Combine x,y horizontally \n",
      " [[ 8.          4.          3.          5.          1.80445789]\n",
      " [ 8.          3.          5.          9.         -0.96555003]\n",
      " [ 1.          8.          4.          5.         -1.31648003]]\n",
      "Combine x,y vertically \n",
      " [[ 8.          4.          3.          5.        ]\n",
      " [ 8.          3.          5.          9.        ]\n",
      " [ 1.          8.          4.          5.        ]\n",
      " [-0.62578516 -0.32694623 -0.3082092   0.82711746]]\n"
     ]
    }
   ],
   "source": [
    "x = np.random.randint(1,10,size=(3,4))\n",
    "y = np.random.standard_normal(size=(3,1))\n",
    "z = np.random.standard_normal(size=(4,1))\n",
    "\n",
    "a1 = np.concatenate((x,y),axis=1)\n",
    "print('Combine x,y horizontally \\n',a1)\n",
    "\n",
    "a2 = np.concatenate((x,z.T),axis=0)\n",
    "print('Combine x,y vertically \\n',a2)"
   ]
  },
  {
   "cell_type": "markdown",
   "metadata": {},
   "source": [
    "# CH2C - Activity 1"
   ]
  },
  {
   "cell_type": "code",
   "execution_count": 23,
   "metadata": {},
   "outputs": [
    {
     "name": "stdout",
     "output_type": "stream",
     "text": [
      "[[False  True False]\n",
      " [False False  True]]\n",
      "[[1.61392886 0.         0.49587985]\n",
      " [0.5515096  1.52199628 0.        ]]\n"
     ]
    }
   ],
   "source": [
    "import numpy as np\n",
    "np.random.seed(2019)\n",
    "n0 = np.random.uniform(-2,2,6)\n",
    "n1 = n0.reshape((2,3))\n",
    "print(n1<0)\n",
    "n1[n1<0]=0\n",
    "print(n1)"
   ]
  },
  {
   "cell_type": "markdown",
   "metadata": {},
   "source": [
    "# CH2D - Activity 1"
   ]
  },
  {
   "cell_type": "code",
   "execution_count": 49,
   "metadata": {},
   "outputs": [
    {
     "name": "stdout",
     "output_type": "stream",
     "text": [
      "My n0 is: \n",
      " [ 1  2  3  4  5  6  7  8  9 10]\n",
      "My even index is:\n",
      " [1 3 5 7 9]\n",
      "Corresponding elements in n0 are: \n",
      " [ 2  4  6  8 10]\n",
      "Multiplying these elements by 1.5: \n",
      " [ 3.  6.  9. 12. 15.]\n",
      "My new n0 is: \n",
      " [ 1  6  3 12  5 18  7 24  9 30]\n",
      "My n1 is: \n",
      " [30 24 18 12  9  7  6  5  3  1]\n"
     ]
    }
   ],
   "source": [
    "import numpy as np\n",
    "n0 = np.arange(1,11)\n",
    "ind = np.arange(1,11,2)\n",
    "print('My n0 is: \\n',n0)\n",
    "print('My even index is:\\n',ind)\n",
    "print('Corresponding elements in n0 are: \\n',n0[ind])\n",
    "print('Multiplying these elements by 1.5: \\n',n0[ind]*1.5)\n",
    "\n",
    "n0[ind] *= 3\n",
    "print('My new n0 is: \\n',n0)\n",
    "\n",
    "n1 = np.sort(n0)[::-1]\n",
    "print('My n1 is: \\n',n1)"
   ]
  },
  {
   "cell_type": "code",
   "execution_count": null,
   "metadata": {},
   "outputs": [],
   "source": []
  }
 ],
 "metadata": {
  "kernelspec": {
   "display_name": "Python 3",
   "language": "python",
   "name": "python3"
  },
  "language_info": {
   "codemirror_mode": {
    "name": "ipython",
    "version": 3
   },
   "file_extension": ".py",
   "mimetype": "text/x-python",
   "name": "python",
   "nbconvert_exporter": "python",
   "pygments_lexer": "ipython3",
   "version": "3.6.8"
  }
 },
 "nbformat": 4,
 "nbformat_minor": 2
}
